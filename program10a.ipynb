{
 "cells": [
  {
   "cell_type": "code",
   "execution_count": null,
   "metadata": {},
   "outputs": [],
   "source": [
    "from PyPDF2 import PdfWriter, PdfReader\n",
    "num = int(input(\"Enter page number you want combine from multiple documents \n",
    "\"))\n",
    "pdf1 = open('birds.pdf', 'rb')\n",
    "pdf2 = open('birdspic.pdf', 'rb')\n",
    "pdf_writer = PdfWriter()\n",
    "pdf1_reader = PdfReader(pdf1) \n",
    "page = pdf1_reader.pages[num - 1]\n",
    "pdf_writer.add_page(page)\n",
    "pdf2_reader = PdfReader(pdf2) \n",
    "page = pdf2_reader.pages[num - 1]\n",
    "pdf_writer.add_page(page)\n",
    "with open('output.pdf', 'wb') as output:\n",
    " pdf_writer.write(output)"
   ]
  }
 ],
 "metadata": {
  "language_info": {
   "name": "python"
  },
  "orig_nbformat": 4
 },
 "nbformat": 4,
 "nbformat_minor": 2
}
